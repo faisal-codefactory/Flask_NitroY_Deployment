{
 "metadata": {
  "language_info": {
   "codemirror_mode": {
    "name": "ipython",
    "version": 3
   },
   "file_extension": ".py",
   "mimetype": "text/x-python",
   "name": "python",
   "nbconvert_exporter": "python",
   "pygments_lexer": "ipython3",
   "version": "3.6.9-final"
  },
  "orig_nbformat": 2,
  "kernelspec": {
   "name": "python3",
   "display_name": "Python 3"
  }
 },
 "nbformat": 4,
 "nbformat_minor": 2,
 "cells": [
  {
   "cell_type": "code",
   "execution_count": 22,
   "metadata": {},
   "outputs": [],
   "source": [
    "def SimpleParser(sequence):\n",
    "    seq = sequence.split('\\n')\n",
    "    re = ''\n",
    "    for x in seq:\n",
    "        #print(x)\n",
    "        re = re + x\n",
    "    return re"
   ]
  },
  {
   "cell_type": "code",
   "execution_count": 26,
   "metadata": {},
   "outputs": [],
   "source": [
    "seqOrig = \"MEPPLPTPMLLLLLLLLSSSAALPAPPRTPRHSDGMFTSELSRLQDSARLQRLLQGLVGKRSEQDTENIPENSLARSKPLEDQLCLLWSNTQTLQDWLLPRLSLDGSLSLWLPPGPRSAVDRSEWTETTRPPR\"\n",
    "seq = \"MEPPLPTPMLLLLLLLLSSSAALPA\\nPPRTPRHSDGMFTSELSRLQDSARLQRL\\nLQGLVGKRSEQDTENIPENSLARSKPLEDQLCLL\\nWSNTQTLQDWLLPRLSLDGSLSLWLPPG\\nPRSAVDRSEWTETTRPPR\""
   ]
  },
  {
   "cell_type": "code",
   "execution_count": 27,
   "metadata": {},
   "outputs": [
    {
     "output_type": "stream",
     "name": "stdout",
     "text": [
      "133\n133\nMEPPLPTPMLLLLLLLLSSSAALPAPPRTPRHSDGMFTSELSRLQDSARLQRLLQGLVGKRSEQDTENIPENSLARSKPLEDQLCLLWSNTQTLQDWLLPRLSLDGSLSLWLPPGPRSAVDRSEWTETTRPPR\nMEPPLPTPMLLLLLLLLSSSAALPAPPRTPRHSDGMFTSELSRLQDSARLQRLLQGLVGKRSEQDTENIPENSLARSKPLEDQLCLLWSNTQTLQDWLLPRLSLDGSLSLWLPPGPRSAVDRSEWTETTRPPR\n"
     ]
    }
   ],
   "source": [
    "print(len(seqOrig))\n",
    "#print(SimpleParser(seq))\n",
    "print(len(SimpleParser(seq)))\n",
    "print(seqOrig)\n",
    "print(SimpleParser(seq))"
   ]
  },
  {
   "cell_type": "code",
   "execution_count": 28,
   "metadata": {},
   "outputs": [],
   "source": [
    "import vamideutil"
   ]
  },
  {
   "cell_type": "code",
   "execution_count": 29,
   "metadata": {},
   "outputs": [
    {
     "output_type": "stream",
     "name": "stdout",
     "text": [
      "[57, 119]\n"
     ]
    }
   ],
   "source": [
    "sample_list, idx_list = vamideutil.samplesfromProtein(\"V\", SimpleParser(seq))\n",
    "print(idx_list)"
   ]
  },
  {
   "cell_type": "code",
   "execution_count": 31,
   "metadata": {},
   "outputs": [
    {
     "output_type": "stream",
     "name": "stdout",
     "text": [
      "V\n"
     ]
    }
   ],
   "source": [
    "print(seqOrig[119])"
   ]
  },
  {
   "cell_type": "code",
   "execution_count": 32,
   "metadata": {},
   "outputs": [
    {
     "output_type": "stream",
     "name": "stdout",
     "text": [
      "['TSELSRLQDSARLQRLLQGLVGKRSEQDTENIPENSLARSK', 'PRLSLDGSLSLWLPPGPRSAVDRSEWTETTRPPRXXXXXXX']\n"
     ]
    }
   ],
   "source": [
    "print(sample_list)"
   ]
  },
  {
   "cell_type": "code",
   "execution_count": 34,
   "metadata": {},
   "outputs": [
    {
     "output_type": "stream",
     "name": "stdout",
     "text": [
      "41\n"
     ]
    }
   ],
   "source": [
    "print(len(sample_list[1]))"
   ]
  },
  {
   "cell_type": "code",
   "execution_count": 41,
   "metadata": {},
   "outputs": [
    {
     "output_type": "stream",
     "name": "stdout",
     "text": [
      "(2, 41)\n",
      "[[1]\n",
      " [0]]\n"
     ]
    }
   ],
   "source": [
    "from keras.models import load_model\n",
    "import numpy as np\n",
    "cnn_model = load_model(\"cnnVamide2012.h5\")\n",
    "X = np.array([vamideutil.encode_sample(a) for a in sample_list])\n",
    "print (X.shape)\n",
    "y = cnn_model.predict_classes(X)\n",
    "print(y)"
   ]
  },
  {
   "cell_type": "code",
   "execution_count": 37,
   "metadata": {},
   "outputs": [
    {
     "output_type": "stream",
     "name": "stdout",
     "text": [
      "[0]\n"
     ]
    }
   ],
   "source": [
    "tmp= np.nonzero(y)[0]\n",
    "print(tmp)"
   ]
  },
  {
   "cell_type": "code",
   "execution_count": 38,
   "metadata": {},
   "outputs": [
    {
     "output_type": "stream",
     "name": "stdout",
     "text": [
      "[57]\n['TSELSRLQDSARLQRLLQGLVGKRSEQDTENIPENSLARSK']\n"
     ]
    }
   ],
   "source": [
    "pos_site_list = [idx_list[a] for a in tmp]\n",
    "pos_seq_list = [sample_list[a] for a in tmp]\n",
    "print(pos_site_list)\n",
    "print(pos_seq_list)"
   ]
  },
  {
   "cell_type": "code",
   "execution_count": 42,
   "metadata": {},
   "outputs": [],
   "source": [
    "seq = \"MFRPLWGCFLAILGICIFHIGEVQSQCWESSRCADLSSEDGVLECIKACKTDLSAESPVF\\\n",
    "PGNGHLQPLSESIRKYVMTHFRWNKFGRRNSTGNDGSNTGYKREDISSYPVFSLFPLSDQ\\\n",
    "NAPGDNMEEEPLDRQENKRAYSMEHFRWGKPVGRKRRPIKVYPNGVEEESAESYPMELRR\\\n",
    "ELSLELDYPEIDLDEDIEDNEVESALTKKNGNYRMHHFRWGSPPKDKRYGGFMTPERSQT\\\n",
    "PLMTLFKNAIIKNSHKKGQ\""
   ]
  },
  {
   "cell_type": "code",
   "execution_count": 43,
   "metadata": {},
   "outputs": [
    {
     "output_type": "stream",
     "name": "stdout",
     "text": [
      "41\n41\n41\n41\n41\n41\n41\n41\n41\n"
     ]
    }
   ],
   "source": [
    "sample_list, idx_list = vamideutil.samplesfromProtein(\"V\", SimpleParser(seq))\n",
    "for a in sample_list:\n",
    "    print(len(a))"
   ]
  },
  {
   "cell_type": "code",
   "execution_count": 50,
   "metadata": {},
   "outputs": [],
   "source": [
    "def getSamplewithLength(seq,idx,sample_length=20):\n",
    "    n_str = f\"{'X'*20+seq+'X'*20}\"\n",
    "    n_str = \"\".join(n_str.splitlines())\n",
    "    idx=idx+20\n",
    "    l_idx= (idx-sample_length)\n",
    "    h_idx=  (idx+sample_length+1)\n",
    "    n_str = n_str[int(l_idx):int(h_idx)]\n",
    "    assert( len(n_str)==41)\n",
    "    return n_str"
   ]
  },
  {
   "cell_type": "code",
   "execution_count": 45,
   "metadata": {},
   "outputs": [],
   "source": [
    "def findOccurrences(seq, symbol):\n",
    "    return [i for i, letter in enumerate(seq) if letter == symbol]"
   ]
  },
  {
   "cell_type": "code",
   "execution_count": 46,
   "metadata": {},
   "outputs": [
    {
     "output_type": "stream",
     "name": "stdout",
     "text": [
      "[22, 41, 58, 76, 110, 151, 160, 165, 201]\n"
     ]
    }
   ],
   "source": [
    "idx_list = findOccurrences(seq, \"V\")\n",
    "print(idx_list)"
   ]
  },
  {
   "cell_type": "code",
   "execution_count": 47,
   "metadata": {},
   "outputs": [
    {
     "output_type": "stream",
     "name": "stdout",
     "text": [
      "V\nV\nV\nV\nV\nV\nV\nV\nV\n"
     ]
    }
   ],
   "source": [
    "for idx in idx_list:\n",
    "    print(seq[idx])"
   ]
  },
  {
   "cell_type": "code",
   "execution_count": 52,
   "metadata": {},
   "outputs": [
    {
     "output_type": "stream",
     "name": "stdout",
     "text": [
      "41\n"
     ]
    }
   ],
   "source": [
    "tmp = getSamplewithLength(seq,idx_list[-1])\n",
    "print(len(tmp))"
   ]
  },
  {
   "cell_type": "code",
   "execution_count": 53,
   "metadata": {},
   "outputs": [
    {
     "output_type": "stream",
     "name": "stdout",
     "text": [
      "LSLELDYPEIDLDEDIEDNEVESALTKKNGNYRMHHFRWGS\n"
     ]
    }
   ],
   "source": [
    "print(tmp)"
   ]
  },
  {
   "cell_type": "code",
   "execution_count": 55,
   "metadata": {},
   "outputs": [
    {
     "output_type": "stream",
     "name": "stdout",
     "text": [
      "V\n"
     ]
    }
   ],
   "source": [
    "print(tmp[20])"
   ]
  },
  {
   "cell_type": "code",
   "execution_count": null,
   "metadata": {},
   "outputs": [],
   "source": []
  }
 ]
}